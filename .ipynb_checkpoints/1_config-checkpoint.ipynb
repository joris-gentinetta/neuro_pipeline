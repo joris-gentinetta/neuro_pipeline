{
 "cells": [
  {
   "cell_type": "code",
   "execution_count": 1,
   "metadata": {},
   "outputs": [],
   "source": [
    "## only cell to adapt\n",
    "animal = '116'\n",
    "max_impedance = 2000000 "
   ]
  },
  {
   "cell_type": "code",
   "execution_count": 2,
   "metadata": {},
   "outputs": [],
   "source": [
    "import numpy as np\n",
    "from load_intan_rhd_format.load_intan_rhd_format import read_data\n",
    "import os\n",
    "import shutil\n",
    "from IPython.utils import io\n",
    "import matplotlib.pyplot as plt\n",
    "from tqdm import tqdm\n",
    "import time\n",
    "import subprocess\n",
    "import shlex"
   ]
  },
  {
   "cell_type": "code",
   "execution_count": 3,
   "metadata": {},
   "outputs": [],
   "source": [
    "#folder preparation\n",
    "animal_folder = r'E:/anxiety_ephys/' + animal + '/'\n",
    "sub_folder = 'circus'\n",
    "target_folder = animal_folder + sub_folder + '/'"
   ]
  },
  {
   "cell_type": "code",
   "execution_count": 4,
   "metadata": {},
   "outputs": [],
   "source": [
    "if(os.path.exists(target_folder)):\n",
    "    print('overwrite ', target_folder, '? [y/n]')\n",
    "    if input() == 'y':\n",
    "        shutil.rmtree(target_folder)\n",
    "time.sleep(5)"
   ]
  },
  {
   "cell_type": "code",
   "execution_count": 5,
   "metadata": {},
   "outputs": [],
   "source": [
    "experiment_names = os.listdir(animal_folder)\n",
    "data_folders = [animal_folder + experiment_name + '/' for experiment_name in experiment_names]\n",
    "#rhd_folder = data_folder + 'ephys/'\n",
    "templates = r'E:/pipe/spykingcircus_sorter_2/templates/'\n",
    "#rhd_files = os.listdir(rhd_folder)\n",
    "param_file = target_folder + 'dat_files/' + experiment_names[0] + '_0.params'\n",
    "circus_entrypoint = target_folder + 'dat_files/' + experiment_names[0] + '_0.dat'"
   ]
  },
  {
   "cell_type": "code",
   "execution_count": 6,
   "metadata": {
    "scrolled": false
   },
   "outputs": [],
   "source": [
    "#folder creation\n",
    "os.mkdir(target_folder)\n",
    "os.mkdir(target_folder + 'dat_files')\n",
    "os.mkdir(target_folder + 'dat_files_mod')"
   ]
  },
  {
   "cell_type": "code",
   "execution_count": 7,
   "metadata": {},
   "outputs": [],
   "source": [
    "%%capture\n",
    "#get common channels, create trigger files\n",
    "for index, data_folder in enumerate(data_folders):\n",
    "    rhd_folder = data_folder + 'ephys/'\n",
    "    rhd_files = os.listdir(rhd_folder)\n",
    "    amp_channels = read_data(rhd_folder+ rhd_files[0])['amplifier_channels']\n",
    "    channel_set = {int(channel['native_channel_name'][2:]) for channel in amp_channels}\n",
    "    if index == 0: \n",
    "        valid_channels = channel_set\n",
    "    else:\n",
    "        valid_channels = valid_channels.intersection(channel_set)\n",
    "    #create trigger file\n",
    "    with io.capture_output():\n",
    "        r = read_data(rhd_folder+ rhd_files[0])\n",
    "    trigger = np.array(r['board_dig_in_data'][0])\n",
    "    i, = np.where(trigger==1)\n",
    "    np.save(target_folder + experiment_names[index] + '_trigger', i[-1])"
   ]
  },
  {
   "cell_type": "code",
   "execution_count": 8,
   "metadata": {
    "scrolled": false
   },
   "outputs": [],
   "source": [
    "%%capture  \n",
    "\n",
    "pta = [28, 29, 27, 12, 20, 21, 11, 7, 1, 8, 10, 15, 18, 23, 26, 31, 2, 6, 9, 14, 17, 22, 25, 30, 19, 24, 0, 13, 16, 5, 4, 3, 32, 45, 43, 56, 35, 40, 60, 52, 33, 38, 41, 46, 49, 54, 57, 62, 34, 39, 42, 47, 50, 55, 58, 63, 44, 36, 59, 61, 37, 48, 53, 51]\n",
    "valid_channels = [channel for channel in valid_channels if pta.index(channel)+1<33]\n",
    "\n",
    "#pta[x] denotes the channel of pad x+1\n",
    "pta = [28, 29, 27, 12, 20, 21, 11, 7, 1, 8, 10, 15, 18, 23, 26, 31, 2, 6, 9, 14, 17, 22, 25, 30, 19, 24, 0, 13, 16, 5, 4, 3, 32, 45, 43, 56, 35, 40, 60, 52, 33, 38, 41, 46, 49, 54, 57, 62, 34, 39, 42, 47, 50, 55, 58, 63, 44, 36, 59, 61, 37, 48, 53, 51]\n",
    "\n",
    "#pad[x] denotes the pad corresponding to data['amplifier_data'][x]\n",
    "pad = [pta[channel] + 1 for channel in valid_channels]\n",
    "\n",
    "# probe file 'graph'\n",
    "graph = []  \n",
    "\n",
    "# probe file 'geometry'\n",
    "geometry={}\n",
    "for i in range(len(pad)):\n",
    "    if pad[i] < 33:\n",
    "        geometry[i] = (0, (pad[i] - 32) * 70)\n",
    "    else:\n",
    "        geometry[i] = (3000, (pad[i] - 64) * 70)\n",
    "# param file 'nchannels'        \n",
    "total_nb_channels = len(valid_channels)\n",
    "channels = list(np.arange(0, total_nb_channels))"
   ]
  },
  {
   "cell_type": "code",
   "execution_count": 9,
   "metadata": {},
   "outputs": [
    {
     "name": "stderr",
     "output_type": "stream",
     "text": [
      "\r",
      "0it [00:00, ?it/s]"
     ]
    },
    {
     "name": "stdout",
     "output_type": "stream",
     "text": [
      "\n",
      "Reading Intan Technologies RHD2000 Data File, Version 1.5\n",
      "\n",
      "n signal groups 7\n",
      "Found 64 amplifier channels.\n",
      "Found 0 auxiliary input channels.\n",
      "Found 0 supply voltage channels.\n",
      "Found 0 board ADC channels.\n",
      "Found 2 board digital input channels.\n",
      "Found 0 board digital output channels.\n",
      "Found 0 temperature sensors channels.\n",
      "\n",
      "File contains 60.012 seconds of data.  Amplifiers were sampled at 20.00 kS/s.\n",
      "\n",
      "Allocating memory for data...\n",
      "Reading data from file...\n",
      "10% done...\n",
      "20% done...\n",
      "30% done...\n",
      "40% done...\n",
      "50% done...\n",
      "60% done...\n",
      "70% done...\n",
      "80% done...\n",
      "90% done...\n",
      "Parsing data...\n",
      "No missing timestamps in data.\n",
      "Done!  Elapsed time: 1.9 seconds\n"
     ]
    },
    {
     "name": "stderr",
     "output_type": "stream",
     "text": [
      "\r",
      "1it [01:26, 86.26s/it]"
     ]
    },
    {
     "name": "stdout",
     "output_type": "stream",
     "text": [
      "\n",
      "Reading Intan Technologies RHD2000 Data File, Version 1.5\n",
      "\n",
      "n signal groups 7\n",
      "Found 64 amplifier channels.\n",
      "Found 0 auxiliary input channels.\n",
      "Found 0 supply voltage channels.\n",
      "Found 0 board ADC channels.\n",
      "Found 2 board digital input channels.\n",
      "Found 0 board digital output channels.\n",
      "Found 0 temperature sensors channels.\n",
      "\n",
      "File contains 60.012 seconds of data.  Amplifiers were sampled at 20.00 kS/s.\n",
      "\n",
      "Allocating memory for data...\n",
      "Reading data from file...\n",
      "10% done...\n",
      "20% done...\n",
      "30% done...\n",
      "40% done...\n",
      "50% done...\n",
      "60% done...\n",
      "70% done...\n",
      "80% done...\n",
      "90% done...\n",
      "Parsing data...\n",
      "No missing timestamps in data.\n",
      "Done!  Elapsed time: 2.0 seconds\n"
     ]
    },
    {
     "name": "stderr",
     "output_type": "stream",
     "text": [
      "\r",
      "2it [02:24, 69.51s/it]"
     ]
    },
    {
     "name": "stdout",
     "output_type": "stream",
     "text": [
      "\n",
      "Reading Intan Technologies RHD2000 Data File, Version 1.5\n",
      "\n",
      "n signal groups 7\n",
      "Found 64 amplifier channels.\n",
      "Found 0 auxiliary input channels.\n",
      "Found 0 supply voltage channels.\n",
      "Found 0 board ADC channels.\n",
      "Found 2 board digital input channels.\n",
      "Found 0 board digital output channels.\n",
      "Found 0 temperature sensors channels.\n",
      "\n",
      "File contains 60.012 seconds of data.  Amplifiers were sampled at 20.00 kS/s.\n",
      "\n",
      "Allocating memory for data...\n",
      "Reading data from file...\n",
      "10% done...\n",
      "20% done...\n",
      "30% done...\n",
      "40% done...\n",
      "50% done...\n",
      "60% done...\n",
      "70% done...\n",
      "80% done...\n",
      "90% done...\n",
      "Parsing data...\n",
      "No missing timestamps in data.\n",
      "Done!  Elapsed time: 2.2 seconds\n"
     ]
    },
    {
     "name": "stderr",
     "output_type": "stream",
     "text": [
      "3it [04:53, 97.96s/it] \n"
     ]
    }
   ],
   "source": [
    "#create .dat files\n",
    "#15min\n",
    "start = time.time()\n",
    "logbook = np.zeros(len(experiment_names))\n",
    "for index, data_folder in tqdm(enumerate(data_folders)):\n",
    "    rhd_folder = data_folder + 'ephys/'\n",
    "    rhd_files = os.listdir(rhd_folder)\n",
    "    amp_channels = read_data(rhd_folder+ rhd_files[0])['amplifier_channels']#time: 02:28min for 25 files\n",
    "    channel_list = [int(channel['native_channel_name'][2:]) for channel in amp_channels]\n",
    "    indices = [channel_list.index(valid_channel) for valid_channel in valid_channels]\n",
    "    total_size = 0\n",
    "    with io.capture_output():\n",
    "        for i , rhdfile in enumerate(rhd_files):\n",
    "                x = np.array(read_data(rhd_folder + rhdfile)['amplifier_data'], dtype = np.int16)[indices]\n",
    "                if i==0:\n",
    "                    tosave = np.zeros((x.shape[0], x.shape[1]*len(rhd_files)), dtype =np.int16)\n",
    "                tosave[:, total_size:total_size + x.shape[1]] = x\n",
    "                total_size += x.shape[1]\n",
    "        tosave=np.transpose(tosave[:,:total_size])\n",
    "        tosave.tofile(target_folder + 'dat_files/' + experiment_names[index] + '_' + str(index) + '.dat')\n",
    "\n",
    "    logbook[index] = total_size\n",
    "np.save(target_folder + 'logbook', logbook)\n",
    "end = time.time()"
   ]
  },
  {
   "cell_type": "markdown",
   "metadata": {},
   "source": [
    "#prepare data for plotting\n",
    "rhd_folder = data_folders[0] + 'ephys/'\n",
    "rhd_files = os.listdir(rhd_folder)\n",
    "with io.capture_output():\n",
    "    x = np.array(read_data(rhd_folder + rhd_files[0])['amplifier_data'], dtype = np.int16);\n",
    "mPFC = np.zeros(x.shape[1], dtype = np.int16)\n",
    "n_mPFC = 0\n",
    "vH = np.zeros(x.shape[1], dtype = np.int16)\n",
    "n_vH = 0\n",
    "for i in range(x.shape[0]):\n",
    "    if pad[i] < 33: \n",
    "        mPFC += x[i]\n",
    "        n_mPFC += 1\n",
    "    else: \n",
    "        vH += x[i]\n",
    "        n_vH += 1\n",
    "for i in range(x.shape[0]):\n",
    "    if pad[i] < 33:\n",
    "        x[i] = (x[i] - mPFC/n_mPFC).astype(np.int16)\n",
    "            \n",
    "    else: \n",
    "        x[i] = (x[i] - vH/n_vH).astype(np.int16)       "
   ]
  },
  {
   "cell_type": "markdown",
   "metadata": {
    "collapsed": true
   },
   "source": [
    "#plot channels\n",
    "lw =0.4\n",
    "d=x[:,x.shape[1]//10*8:x.shape[1]//10*9]\n",
    "zero = np.zeros(d.shape[1])\n",
    "frontier = [1 if i % 2 == 0 else 0 for i in range(d.shape[1]) ]\n",
    "fig = plt.figure(figsize = (20,30))\n",
    "gs = fig.add_gridspec(64, hspace=0)\n",
    "axs = gs.subplots(sharex=True, sharey=True)\n",
    "for i, ax in tqdm(enumerate(axs)):\n",
    "    for ind in range(64):\n",
    "        if ind >= len(pad):\n",
    "            if i == 31:\n",
    "                ax.plot(zero, label = '0, frontier', linewidth = lw)\n",
    "            else:\n",
    "                ax.plot(zero, label = '0', linewidth = lw)\n",
    "        elif pad[ind] == i+1:\n",
    "            if i == 31:\n",
    "                if amp_channels[ind]['electrode_impedance_magnitude'] > max_impedance:\n",
    "                    ax.plot(d[ind], label =str(ind) + ', impedance' + ', frontier', linewidth = lw)\n",
    "                else:\n",
    "                    ax.plot(d[ind], label = str(ind) + ', frontier', linewidth = lw)\n",
    "            else:\n",
    "                if amp_channels[ind]['electrode_impedance_magnitude'] > max_impedance:\n",
    "                    ax.plot(d[ind], label = str(ind) + ', impedance', linewidth = lw)\n",
    "                else:\n",
    "                    ax.plot(d[ind], label = str(ind), linewidth = lw)\n",
    "    ax.legend(loc = 'upper right')\n",
    "plt.ylim(-150, 150)\n",
    "plt.show()"
   ]
  },
  {
   "cell_type": "code",
   "execution_count": 10,
   "metadata": {},
   "outputs": [],
   "source": [
    "#prepare probe.prb file\n",
    "radius = 100\n",
    "cap1 = ('total_nb_channels = ' + str(total_nb_channels)\n",
    "    + '\\nradius = ' + str(radius)\n",
    "    + '\\ngraph = ' + str(graph)\n",
    "    + '\\nchannels = ' + str(channels)\n",
    "    + '\\ngeometry = ' + str(geometry))"
   ]
  },
  {
   "cell_type": "code",
   "execution_count": 11,
   "metadata": {},
   "outputs": [],
   "source": [
    "#create probe.prb file\n",
    "with open(target_folder + 'probe.prb', 'w') as f:\n",
    "    f.write(cap1)   \n",
    "with open(templates+'probespecs.prb', 'r') as f:\n",
    "    t=f.read()   \n",
    "with open(target_folder + 'probe.prb', 'a') as f:\n",
    "    f.write(t) "
   ]
  },
  {
   "cell_type": "code",
   "execution_count": 12,
   "metadata": {
    "scrolled": true
   },
   "outputs": [],
   "source": [
    "#prepare parameters.params file\n",
    "cap2 = ('[data]'\n",
    "    + '\\nnb_channels = ' + str(total_nb_channels)\n",
    "    + '\\nmapping = ' + target_folder + 'probe.prb'\n",
    "    + '\\noutput_dir = ' + target_folder + 'dat_files_mod')"
   ]
  },
  {
   "cell_type": "code",
   "execution_count": 13,
   "metadata": {},
   "outputs": [],
   "source": [
    "#create parameters.params file\n",
    "param_file\n",
    "with open(param_file, 'w') as f:\n",
    "    f.write(cap2)   \n",
    "with open(templates+'parameters.params', 'r') as f:\n",
    "    t=f.read()   \n",
    "with open(param_file, 'a') as f:\n",
    "    f.write(t)  "
   ]
  },
  {
   "cell_type": "code",
   "execution_count": 14,
   "metadata": {
    "scrolled": true
   },
   "outputs": [
    {
     "name": "stdout",
     "output_type": "stream",
     "text": [
      "0\n"
     ]
    }
   ],
   "source": [
    "#start clustering process #15min\n",
    "os.system('spyking-circus ' + circus_entrypoint + ' -c 10')\n",
    "\n",
    "cluster_command = 'spyking-circus ' + circus_entrypoint + ' -c 10'\n",
    "args = shlex.split(cluster_command)\n",
    "\n",
    "cluster = subprocess.run(args, stdout=subprocess.PIPE,\n",
    "        encoding='ascii')\n",
    "\n",
    "print(cluster.returncode)\n",
    "#print(cluster.stdout)"
   ]
  },
  {
   "cell_type": "code",
   "execution_count": 15,
   "metadata": {},
   "outputs": [
    {
     "name": "stdout",
     "output_type": "stream",
     "text": [
      "0\n"
     ]
    }
   ],
   "source": [
    "converter_command = 'spyking-circus ' + circus_entrypoint + ' -m converting -c 10'\n",
    "args = shlex.split(converter_command)\n",
    "\n",
    "converter = subprocess.run(args, stdout=subprocess.PIPE,\n",
    "        input='a\\n', encoding='ascii')\n",
    "\n",
    "print(converter.returncode)\n",
    "#print(converter.stdout)"
   ]
  },
  {
   "cell_type": "code",
   "execution_count": 16,
   "metadata": {
    "scrolled": true
   },
   "outputs": [
    {
     "name": "stdout",
     "output_type": "stream",
     "text": [
      "0\n"
     ]
    }
   ],
   "source": [
    "#start viewer\n",
    "viewer_command = 'circus-gui-python ' + circus_entrypoint\n",
    "args = shlex.split(viewer_command)\n",
    "\n",
    "viewer = subprocess.run(args, stdout=subprocess.PIPE,\n",
    "        encoding='ascii')\n",
    "\n",
    "print(viewer.returncode)\n",
    "#print(viewer.stdout)\n",
    "\n",
    "with open(target_folder + 'start_viewer.txt', 'w') as f:\n",
    "    f.write(viewer_command)"
   ]
  }
 ],
 "metadata": {
  "kernelspec": {
   "display_name": "Python 3",
   "language": "python",
   "name": "python3"
  },
  "language_info": {
   "codemirror_mode": {
    "name": "ipython",
    "version": 3
   },
   "file_extension": ".py",
   "mimetype": "text/x-python",
   "name": "python",
   "nbconvert_exporter": "python",
   "pygments_lexer": "ipython3",
   "version": "3.6.13"
  }
 },
 "nbformat": 4,
 "nbformat_minor": 2
}
