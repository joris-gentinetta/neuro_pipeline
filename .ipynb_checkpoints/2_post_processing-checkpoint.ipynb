{
 "cells": [
  {
   "cell_type": "code",
   "execution_count": 1,
   "id": "charming-harmony",
   "metadata": {},
   "outputs": [],
   "source": [
    "animal = '116'"
   ]
  },
  {
   "cell_type": "code",
   "execution_count": 2,
   "id": "potential-stability",
   "metadata": {},
   "outputs": [],
   "source": [
    "import h5py\n",
    "import numpy as np\n",
    "import matplotlib.pyplot as plt\n",
    "import pandas as pd\n",
    "from tqdm import tqdm\n",
    "import os"
   ]
  },
  {
   "cell_type": "code",
   "execution_count": 3,
   "id": "previous-adolescent",
   "metadata": {},
   "outputs": [],
   "source": [
    "animal_folder = r'E:/anxiety_ephys/' + animal + '/'\n",
    "experiment_names = os.listdir(animal_folder)[:-1]\n",
    "experiment_name = experiment_names[0]\n",
    "sub_folder = 'circus'\n",
    "circus = animal_folder + sub_folder + '/'\n",
    "folder = circus + 'dat_files_mod/' + experiment_name + '_0.GUI/'\n",
    "\n",
    "stimes = 'spike_times.npy'\n",
    "sclusters = 'spike_clusters.npy'\n",
    "infofile = 'cluster_info.tsv'\n"
   ]
  },
  {
   "cell_type": "code",
   "execution_count": 4,
   "id": "progressive-ozone",
   "metadata": {},
   "outputs": [],
   "source": [
    "info = pd.read_csv(folder+infofile, sep = '\\t', index_col=0)\n",
    "idx=np.array(info.index)\n",
    "group=np.array(info.group)\n",
    "indexer = np.zeros(idx.max()+1, dtype = np.int8)\n",
    "n=1\n",
    "for i in range(idx.size):\n",
    "    if group[i] == 'good':\n",
    "        indexer[idx[i]] = n\n",
    "        n+=1"
   ]
  },
  {
   "cell_type": "code",
   "execution_count": 5,
   "id": "maritime-monte",
   "metadata": {},
   "outputs": [],
   "source": [
    "spiketimes = np.load(folder + stimes)\n",
    "spiketimes = spiketimes*50//20000  #sampled at 50Hz\n",
    "clusters = np.load(folder + sclusters)\n",
    "data = np.zeros((int(indexer.max()+1), int(max(spiketimes)+1)), dtype=np.uint8)"
   ]
  },
  {
   "cell_type": "code",
   "execution_count": 6,
   "id": "boxed-grenada",
   "metadata": {},
   "outputs": [],
   "source": [
    "for index, time in enumerate(spiketimes):\n",
    "    data[indexer[clusters[index]],time] += 1"
   ]
  },
  {
   "cell_type": "code",
   "execution_count": 7,
   "id": "c585b10a",
   "metadata": {},
   "outputs": [],
   "source": [
    "cluster_names = np.zeros(data.shape[0], dtype = np.uint8)\n",
    "for i in range(1,cluster_names.size):\n",
    "    cluster_names[i] =  np.where(indexer == i)[0]\n",
    "np.save(circus + 'cluster_names', cluster_names)"
   ]
  },
  {
   "cell_type": "markdown",
   "id": "24ada2bc",
   "metadata": {},
   "source": [
    "lw =0.4\n",
    "fig = plt.figure(figsize = (30,1.5 * data.shape[0]))\n",
    "gs = fig.add_gridspec(data.shape[0]-1, hspace=0)\n",
    "axs = gs.subplots(sharex=True, sharey=True)\n",
    "for i, ax in tqdm(enumerate(axs)):\n",
    "    ax.plot(data[i+1, :data.shape[1]//16], label = str(i), linewidth = lw)\n",
    "    ax.legend(loc = 'upper right')\n",
    "#plt.ylim(-250, 250)\n"
   ]
  },
  {
   "cell_type": "code",
   "execution_count": 8,
   "id": "5fd37f36",
   "metadata": {},
   "outputs": [],
   "source": [
    "logbook_1 = np.load(circus + 'logbook.npy')"
   ]
  },
  {
   "cell_type": "code",
   "execution_count": 9,
   "id": "d54f1741",
   "metadata": {},
   "outputs": [],
   "source": [
    "logbook_2 = np.zeros(len(experiment_names)+1)\n",
    "logbook_2[1:] = logbook_1[:len(experiment_names)]"
   ]
  },
  {
   "cell_type": "code",
   "execution_count": 10,
   "id": "bde1eb04",
   "metadata": {},
   "outputs": [],
   "source": [
    "logbook_3 = np.zeros(len(experiment_names)+1, dtype=np.int64)\n",
    "for i in range(logbook_3.size):\n",
    "    logbook_3[i] = np.sum(logbook_2[0:i+1])\n",
    "logbook_3 = logbook_3*50//20000"
   ]
  },
  {
   "cell_type": "code",
   "execution_count": 11,
   "id": "czech-screening",
   "metadata": {},
   "outputs": [],
   "source": [
    "for i in range(logbook_3.size-1):\n",
    "    np.save(circus + experiment_names[i], data[:,logbook_3[i]:logbook_3[i+1]])"
   ]
  }
 ],
 "metadata": {
  "kernelspec": {
   "display_name": "Python 3",
   "language": "python",
   "name": "python3"
  },
  "language_info": {
   "codemirror_mode": {
    "name": "ipython",
    "version": 3
   },
   "file_extension": ".py",
   "mimetype": "text/x-python",
   "name": "python",
   "nbconvert_exporter": "python",
   "pygments_lexer": "ipython3",
   "version": "3.6.13"
  }
 },
 "nbformat": 4,
 "nbformat_minor": 5
}
